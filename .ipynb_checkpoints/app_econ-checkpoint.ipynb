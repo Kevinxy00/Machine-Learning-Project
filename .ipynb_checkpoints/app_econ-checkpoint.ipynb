{
 "cells": [
  {
   "cell_type": "code",
   "execution_count": 1,
   "metadata": {
    "collapsed": true
   },
   "outputs": [],
   "source": [
    "from flask import Flask, render_template, request\n",
    "from nltk.corpus import stopwords\n",
    "from nltk.tokenize import word_tokenize\n",
    "import pickle\n",
    "from sklearn.feature_extraction.text import HashingVectorizer"
   ]
  },
  {
   "cell_type": "code",
   "execution_count": 2,
   "metadata": {
    "collapsed": true
   },
   "outputs": [],
   "source": [
    "# loading in the pickled model\n",
    "clf2 = pickle.load(open('logReg_model', 'rb'))"
   ]
  },
  {
   "cell_type": "code",
   "execution_count": 3,
   "metadata": {},
   "outputs": [
    {
     "data": {
      "text/plain": [
       "'This test ! Testing , testing , 1 , 2 , 3 !'"
      ]
     },
     "execution_count": 3,
     "metadata": {},
     "output_type": "execute_result"
    }
   ],
   "source": [
    "# function to clean text \n",
    "stop_words = set(stopwords.words('english'))\n",
    "def clean_text(text):\n",
    "    word_tokens = word_tokenize(text)\n",
    "    filtered_sentence = []\n",
    "    for w in word_tokens:\n",
    "        if w not in stop_words:\n",
    "            filtered_sentence.append(w)\n",
    "    string = ' '.join(filtered_sentence)\n",
    "    return string\n",
    "\n",
    "# testing clean_text()\n",
    "test = \"This is only a test! Testing, testing, and a 1, and a 2, and a 3!\"\n",
    "cleaned = clean_text(test)\n",
    "cleaned"
   ]
  },
  {
   "cell_type": "code",
   "execution_count": 4,
   "metadata": {},
   "outputs": [
    {
     "data": {
      "text/plain": [
       "'Predicted to NOT be in the top 20 Economics journals with a probability of 67.06%.'"
      ]
     },
     "execution_count": 4,
     "metadata": {},
     "output_type": "execute_result"
    }
   ],
   "source": [
    "# Function to predict if an input string is likely to be in top journal\n",
    "# note: copy/pasted from Econ_machineLearn.ipynb\n",
    "hash_vectorizer = HashingVectorizer(analyzer='word', ngram_range=(1, 2))\n",
    "def model_predict(s):\n",
    "    string = []\n",
    "    string.append(s)\n",
    "    vectorized = hash_vectorizer.transform(string)\n",
    "    probab = round(max(clf2.predict_proba(vectorized)[0])* 100, 2) \n",
    "    prediction = clf2.predict(vectorized)[0]\n",
    "    if prediction == 1:\n",
    "        result = \"Predicted to be in the top 20 Economics journals\"\n",
    "    else:\n",
    "        result = \"Predicted to NOT be in the top 20 Economics journals\"\n",
    "    return result + \" with a probability of \" + str(probab) + \"%.\"\n",
    "\n",
    "#testing\n",
    "prediction = model_predict(cleaned)\n",
    "prediction"
   ]
  },
  {
   "cell_type": "code",
   "execution_count": 5,
   "metadata": {
    "collapsed": true
   },
   "outputs": [],
   "source": [
    "# initialize flask \n",
    "app = Flask(__name__)    "
   ]
  },
  {
   "cell_type": "code",
   "execution_count": 6,
   "metadata": {
    "collapsed": true
   },
   "outputs": [],
   "source": [
    "# render the homepage\n",
    "@app.route(\"/\")\n",
    "def render_index():\n",
    "     return render_template('index_econ.html')"
   ]
  },
  {
   "cell_type": "code",
   "execution_count": 7,
   "metadata": {
    "collapsed": true
   },
   "outputs": [],
   "source": [
    "# When user submits text, returns prediction\n",
    "@app.route(\"/\", methods=[\"POST\"])\n",
    "def post_form():\n",
    "    text = request.form['text']\n",
    "    text_clean = clean_text(text)\n",
    "    predict = model_predict(text_clean)\n",
    "    return predict\n",
    "    "
   ]
  },
  {
   "cell_type": "code",
   "execution_count": 8,
   "metadata": {},
   "outputs": [
    {
     "name": "stderr",
     "output_type": "stream",
     "text": [
      " * Running on http://127.0.0.1:5000/ (Press CTRL+C to quit)\n",
      "127.0.0.1 - - [21/Apr/2018 09:53:50] \"GET / HTTP/1.1\" 200 -\n",
      "127.0.0.1 - - [21/Apr/2018 09:53:50] \"GET /static/econ_styles.css HTTP/1.1\" 200 -\n",
      "127.0.0.1 - - [21/Apr/2018 09:53:50] \"GET /favicon.ico HTTP/1.1\" 404 -\n",
      "127.0.0.1 - - [21/Apr/2018 09:53:50] \"GET /favicon.ico HTTP/1.1\" 404 -\n",
      "127.0.0.1 - - [21/Apr/2018 09:54:10] \"POST / HTTP/1.1\" 200 -\n",
      "127.0.0.1 - - [21/Apr/2018 09:55:07] \"POST / HTTP/1.1\" 200 -\n"
     ]
    }
   ],
   "source": [
    "# run app\n",
    "if __name__=='__main__':\n",
    "    app.run()"
   ]
  }
 ],
 "metadata": {
  "kernelspec": {
   "display_name": "Python (PythonData)",
   "language": "python",
   "name": "pythondata"
  },
  "language_info": {
   "codemirror_mode": {
    "name": "ipython",
    "version": 3
   },
   "file_extension": ".py",
   "mimetype": "text/x-python",
   "name": "python",
   "nbconvert_exporter": "python",
   "pygments_lexer": "ipython3",
   "version": "3.6.3"
  }
 },
 "nbformat": 4,
 "nbformat_minor": 2
}
