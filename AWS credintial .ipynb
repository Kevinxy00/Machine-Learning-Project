{
 "cells": [
  {
   "cell_type": "code",
   "execution_count": 2,
   "metadata": {
    "collapsed": true
   },
   "outputs": [],
   "source": [
    "# import boto\n",
    "# from boto import ec2\n",
    "# ec2 = boto.ec2.connect_to_region('us-west-2', profile_name='my_profile_name')\n",
    "# # [shemelis]\n",
    "# # aws_access_key_id = shemelis_access_key_ID\n",
    "# # aws_secret_access_key = shemelis_secret_access_key\n"
   ]
  },
  {
   "cell_type": "code",
   "execution_count": 43,
   "metadata": {},
   "outputs": [
    {
     "name": "stdout",
     "output_type": "stream",
     "text": [
      "sheme-bukt\n",
      "www.abstract-embedding-viz.com\n",
      "www.abstract-significance-prediction.com\n",
      "www.topic-visualization.com\n"
     ]
    }
   ],
   "source": [
    ">>> import boto3\n",
    ">>> s3 = boto3.resource('s3')\n",
    ">>> for bucket in s3.buckets.all():\n",
    "        print(bucket.name)"
   ]
  },
  {
   "cell_type": "code",
   "execution_count": 32,
   "metadata": {
    "collapsed": true
   },
   "outputs": [],
   "source": [
    "from flask import Flask\n",
    "from flask import request\n",
    "from flask import json\n",
    "import boto3\n",
    "import pickle\n",
    "# from sklearn.externals import joblib\n",
    "\n",
    "BUCKET_NAME = 'www.abstract-significance-prediction.com'\n",
    "MODEL_FILE_NAME = 'linearSVC_model_aws.pkl'\n",
    "\n",
    "app = Flask(__name__)\n",
    "\n",
    "S3 = boto3.client('s3' , region_name='US-east-2')\n",
    "\n",
    "def memoize(f):\n",
    "    memo = {}\n",
    "\n",
    "    def helper(x):\n",
    "        if x not in memo:\n",
    "            memo[x] = f(x)\n",
    "        return memo[x]\n",
    "\n",
    "    return helper\n",
    "\n",
    "@app.route('/', methods=['POST'])\n",
    "def index():\n",
    "     # Parse request body for model input\n",
    "    body_dict = request.get_json(silent=True)\n",
    "    data = body_dict['data']\n",
    "\n",
    "    prediction = predict(data)\n",
    "\n",
    "    result = {'prediction': prediction}\n",
    "    return json.dumps(result)\n",
    "\n",
    "# https://s3.console.aws.amazon.com/s3/#\n",
    "\n",
    "@memoize\n",
    "def load_model(key):\n",
    "    response = S3.get_object(Bucket=BUCKET_NAME, Key=MODEL_FILE_NAME)\n",
    "    model_str = response['Body'].read()\n",
    "\n",
    "    model = pickle.loads(model_str)\n",
    "\n",
    "    return model\n",
    "\n",
    "def predict(data):\n",
    "    model = load_model(MODEL_FILE_NAME)\n",
    "\n",
    "    return model.predict(data).tolist()\n",
    "\n",
    "\n",
    "if __name__ == '__main__':\n",
    "    # listen on all IPs\n",
    "    app.run(host='0.0.0.0')"
   ]
  },
  {
   "cell_type": "code",
   "execution_count": 40,
   "metadata": {},
   "outputs": [
    {
     "ename": "SyntaxError",
     "evalue": "invalid syntax (<ipython-input-40-f3d94552f5c3>, line 1)",
     "output_type": "error",
     "traceback": [
      "\u001b[0;36m  File \u001b[0;32m\"<ipython-input-40-f3d94552f5c3>\"\u001b[0;36m, line \u001b[0;32m1\u001b[0m\n\u001b[0;31m    zappa init\u001b[0m\n\u001b[0m             ^\u001b[0m\n\u001b[0;31mSyntaxError\u001b[0m\u001b[0;31m:\u001b[0m invalid syntax\n"
     ]
    }
   ],
   "source": [
    "zappa init\n"
   ]
  },
  {
   "cell_type": "code",
   "execution_count": null,
   "metadata": {
    "collapsed": true
   },
   "outputs": [],
   "source": []
  },
  {
   "cell_type": "code",
   "execution_count": null,
   "metadata": {
    "collapsed": true
   },
   "outputs": [],
   "source": []
  }
 ],
 "metadata": {
  "kernelspec": {
   "display_name": "Python [conda root]",
   "language": "python",
   "name": "conda-root-py"
  },
  "language_info": {
   "codemirror_mode": {
    "name": "ipython",
    "version": 3
   },
   "file_extension": ".py",
   "mimetype": "text/x-python",
   "name": "python",
   "nbconvert_exporter": "python",
   "pygments_lexer": "ipython3",
   "version": "3.6.3"
  }
 },
 "nbformat": 4,
 "nbformat_minor": 2
}
