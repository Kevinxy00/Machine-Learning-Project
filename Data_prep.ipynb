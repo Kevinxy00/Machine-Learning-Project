{
 "cells": [
  {
   "cell_type": "code",
   "execution_count": 195,
   "metadata": {
    "collapsed": true
   },
   "outputs": [],
   "source": [
    "from pyspark.sql import SparkSession\n",
    "from pyspark.ml.feature import HashingTF, IDF, Tokenizer, StopWordsRemover"
   ]
  },
  {
   "cell_type": "code",
   "execution_count": 197,
   "metadata": {
    "collapsed": true
   },
   "outputs": [],
   "source": [
    "# Start a spark session\n",
    "spark = SparkSession.builder.appName('Paper_qty').getOrCreate()"
   ]
  },
  {
   "cell_type": "code",
   "execution_count": 203,
   "metadata": {},
   "outputs": [
    {
     "name": "stdout",
     "output_type": "stream",
     "text": [
      "Number of records: 45028\n",
      "+---+--------+--------------------+--------------------+-------+-----+------------+\n",
      "|_c0|    pmid|               title|            abstract|journal|label|source_label|\n",
      "+---+--------+--------------------+--------------------+-------+-----+------------+\n",
      "| 32|29590094|Quantized Majoran...|Majorana zero-mod...| nature|    0|           0|\n",
      "| 33|29590093|The logic of sing...|Neocortical areas...| nature|    0|           0|\n",
      "| 34|29590092|Itaconate is an a...|The endogenous me...| nature|    0|           0|\n",
      "| 35|29590091|A new class of sy...|A challenge in th...| nature|    0|           0|\n",
      "| 36|29590090|Architecture of t...|Nutrients, such a...| nature|    0|           0|\n",
      "| 37|29590089|Whole-organism cl...|Embryonic develop...| nature|    0|           0|\n",
      "| 38|29590088|Structure of the ...|The shape, elonga...| nature|    0|           0|\n",
      "| 39|29579743|Room-temperature ...|Room-temperature ...| nature|    0|           0|\n",
      "| 40|29562235|Shifts in tree fu...|Forests have a ke...| nature|    0|           0|\n",
      "| 41|29562233|Structural insigh...|The organellar tw...| nature|    0|           0|\n",
      "| 42|29512654|Correlated insula...|A van der Waals h...| nature|    0|           0|\n",
      "| 43|29512653|Structure of the ...|The insulin recep...| nature|    0|           0|\n",
      "| 44|29512652|Evolved Cas9 vari...|A key limitation ...| nature|    0|           0|\n",
      "| 45|29512651|Unconventional su...|The behaviour of ...| nature|    0|           0|\n",
      "| 46|29512650|Modular assembly ...|Early co-transcri...| nature|    0|           0|\n",
      "| 47|29620734|Climatic control ...|Over the past cen...| nature|    0|           0|\n",
      "| 48|29620733|A density cusp of...|The existence of ...| nature|    0|           0|\n",
      "| 51|29620730|Molecular nucleat...|The formation of ...| nature|    0|           0|\n",
      "| 57|29618821|Accelerated incre...|Globally accelera...| nature|    0|           0|\n",
      "| 58|29618820|Characterization ...|In 1928, Dirac pu...| nature|    0|           0|\n",
      "+---+--------+--------------------+--------------------+-------+-----+------------+\n",
      "only showing top 20 rows\n",
      "\n"
     ]
    }
   ],
   "source": [
    "# Read in csv\n",
    "dataframe_1 = spark.read.format(\"csv\").option(\"header\", \"true\").load(\"group_1.csv\")\n",
    "dataframe_1=dataframe_1.withColumn(\"source_label\", when(dataframe_1[\"label\"]!=\"0\",\"0\" ).otherwise(dataframe_1[\"label\"]))\n",
    "\n",
    "dataframe_2 = spark.read.format(\"csv\").option(\"header\", \"true\").load(\"group_2.csv\")\n",
    "dataframe_2=dataframe_2.withColumn(\"source_label\", when(dataframe_2[\"label\"]!=\"1\",\"1\" ).otherwise(dataframe_2[\"label\"]))\n",
    "\n",
    "\n",
    "dataframe_3 = spark.read.format(\"csv\").option(\"header\", \"true\").load(\"group_3.csv\")\n",
    "dataframe_3=dataframe_3.withColumn(\"source_label\", when(dataframe_3[\"label\"]!=\"2\",\"2\" ).otherwise(dataframe_3[\"label\"]))\n",
    "\n",
    "\n",
    "# #combine or append the dataframes\n",
    "df=dataframe_1.union(dataframe_2).union(dataframe_3)\n",
    "print(\"Number of records: \" + str(df.count()))\n",
    "df.show()"
   ]
  },
  {
   "cell_type": "code",
   "execution_count": 205,
   "metadata": {},
   "outputs": [
    {
     "name": "stdout",
     "output_type": "stream",
     "text": [
      "+---------------------------------------------------------------------------------------------------------------------------------------------------------------------------------------------------------------------------------------------------------------------------------------------------------------------------------------------------------------------------------------------------------------------------------------------------------------------------------------------------------------+---------------------------------------------------------------------------------------------------------------------+------------+\n",
      "|abstract                                                                                                                                                                                                                                                                                                                                                                                                                                                                                                       |label                                                                                                                |source_label|\n",
      "+---------------------------------------------------------------------------------------------------------------------------------------------------------------------------------------------------------------------------------------------------------------------------------------------------------------------------------------------------------------------------------------------------------------------------------------------------------------------------------------------------------------+---------------------------------------------------------------------------------------------------------------------+------------+\n",
      "|\"Ordinarily, the strength and plasticity properties of a metal are defined by dislocations-line defects in the crystal lattice whose motion results in material slippage along lattice planes. Dislocation dynamics models are usually used as mesoscale proxies for true atomistic dynamics, which are computationally expensive to perform routinely. However, atomistic simulations accurately capture every possible mechanism of material response, resolving every \"\"jiggle and wiggle\"\" of atomic motion| the metal is compressed at ultrahigh strain rates along its [001] crystal axis under conditions of constant pressure|0           |\n",
      "+---------------------------------------------------------------------------------------------------------------------------------------------------------------------------------------------------------------------------------------------------------------------------------------------------------------------------------------------------------------------------------------------------------------------------------------------------------------------------------------------------------------+---------------------------------------------------------------------------------------------------------------------+------------+\n",
      "\n"
     ]
    }
   ],
   "source": [
    "df.filter(df['pmid']=='28953878').select(\"abstract\",\"label\",\"source_label\").show(truncate=False)"
   ]
  },
  {
   "cell_type": "code",
   "execution_count": 210,
   "metadata": {},
   "outputs": [
    {
     "name": "stdout",
     "output_type": "stream",
     "text": [
      "+--------------------+-----+\n",
      "|               label|count|\n",
      "+--------------------+-----+\n",
      "| and response to ...|    1|\n",
      "| the differences ...|    1|\n",
      "|                SOX2|    1|\n",
      "|            habitual|    1|\n",
      "|     area patterning|    1|\n",
      "+--------------------+-----+\n",
      "only showing top 5 rows\n",
      "\n"
     ]
    }
   ],
   "source": [
    "df.groupBy(\"label\").count().show(5)"
   ]
  },
  {
   "cell_type": "code",
   "execution_count": 207,
   "metadata": {},
   "outputs": [
    {
     "name": "stdout",
     "output_type": "stream",
     "text": [
      "+------------+-----+\n",
      "|source_label|count|\n",
      "+------------+-----+\n",
      "|           0|13611|\n",
      "|           1|14597|\n",
      "|           2|16820|\n",
      "+------------+-----+\n",
      "\n"
     ]
    }
   ],
   "source": [
    "df.groupBy(\"source_label\").count().show()"
   ]
  },
  {
   "cell_type": "code",
   "execution_count": 212,
   "metadata": {},
   "outputs": [
    {
     "name": "stdout",
     "output_type": "stream",
     "text": [
      "Total # of Wrongly labeled features: 1652\n",
      "+--------------------------------------------------------------------------------------------------------------------------------------------------------------------------------------------------------------------------------------------------------------------------------------------------------------------------------------------------------------------------------------------------------------------------------------------------------------------------------------------------------------------------------------------------------------------------------------------------------------------------------------------------------------------------------------------------------------------------------------------------------------------------------------------------------------+-------------------------------------------------------------------------------------------------------------------------------------------------------------------------------------------------------------------------------------------------------+\n",
      "|abstract                                                                                                                                                                                                                                                                                                                                                                                                                                                                                                                                                                                                                                                                                                                                                                                                      |label                                                                                                                                                                                                                                                  |\n",
      "+--------------------------------------------------------------------------------------------------------------------------------------------------------------------------------------------------------------------------------------------------------------------------------------------------------------------------------------------------------------------------------------------------------------------------------------------------------------------------------------------------------------------------------------------------------------------------------------------------------------------------------------------------------------------------------------------------------------------------------------------------------------------------------------------------------------+-------------------------------------------------------------------------------------------------------------------------------------------------------------------------------------------------------------------------------------------------------+\n",
      "|\"Endogenous circadian rhythms are thought to modulate responses to external factors, but mechanisms that confer time-of-day differences in organismal responses to environmental insults/therapeutic treatments are poorly understood. Using a xenobiotic, we find that permeability of the Drosophila \"\"blood\"\"-brain barrier (BBB) is higher at night. The permeability rhythm is driven by circadian regulation of efflux and depends on a molecular clock in the perineurial glia of the BBB                                                                                                                                                                                                                                                                                                              | during nighttime                                                                                                                                                                                                                                      |\n",
      "|\"Although vaccines confer protection against influenza A viruses, antiviral treatment becomes the first line of defense during pandemics because there is insufficient time to produce vaccines. Current antiviral drugs are susceptible to drug resistance, and developing new antivirals is essential. We studied host defense peptides from the skin of the South Indian frog and demonstrated that one of these, which we named \"\"urumin                                                                                                                                                                                                                                                                                                                                                                  | we showed that this peptide physically destroyed influenza virions. It also protected naive mice from lethal influenza infection. Urumin represents a unique class of anti-influenza virucide that specifically targets the hemagglutinin stalk region|\n",
      "|\"It is now well established by numerous experimental and computational studies that the adsorption propensities of inorganic anions conform to the Hofmeister series. The adsorption propensities of inorganic cations, such as the alkali metal cations, have received relatively little attention. Here we use a combination of liquid-jet X-ray photoelectron experiments and molecular dynamics simulations to investigate the behavior of K(+) and Li(+) ions near the interfaces of their aqueous solutions with halide ions. Both the experiments and the simulations show that Li(+) adsorbs to the aqueous solution-vapor interface, while K(+) does not. Thus, we provide experimental validation of the \"\"surfactant-like\"\" behavior of Li(+) predicted by previous simulation studies. Furthermore|pnas                                                                                                                                                                                                                                                   |\n",
      "+--------------------------------------------------------------------------------------------------------------------------------------------------------------------------------------------------------------------------------------------------------------------------------------------------------------------------------------------------------------------------------------------------------------------------------------------------------------------------------------------------------------------------------------------------------------------------------------------------------------------------------------------------------------------------------------------------------------------------------------------------------------------------------------------------------------+-------------------------------------------------------------------------------------------------------------------------------------------------------------------------------------------------------------------------------------------------------+\n",
      "only showing top 3 rows\n",
      "\n"
     ]
    }
   ],
   "source": [
    "#wrong labels\n",
    "print(\"Total # of Wrongly labeled features: \" + str(df.select('label').distinct().count()-2))\n",
    "df.select('abstract','label').distinct().filter(df.label.isin([\"0\",\"1\",\"2\"])==False).show(3,truncate=False)"
   ]
  },
  {
   "cell_type": "code",
   "execution_count": 215,
   "metadata": {},
   "outputs": [
    {
     "name": "stdout",
     "output_type": "stream",
     "text": [
      "+--------------------+--------------------+------------+\n",
      "|            abstract|               label|source_label|\n",
      "+--------------------+--------------------+------------+\n",
      "|\"The global geody...| which implies th...|           0|\n",
      "|\"When deformed be...| as well as two m...|           0|\n",
      "|\"The synaptic mec...| and suggest that...|           1|\n",
      "+--------------------+--------------------+------------+\n",
      "only showing top 3 rows\n",
      "\n"
     ]
    }
   ],
   "source": [
    "df.select('abstract','label','source_label').distinct().filter(df.label.isin([\"0\",\"1\",\"2\"])==False).show(3)"
   ]
  },
  {
   "cell_type": "code",
   "execution_count": 223,
   "metadata": {},
   "outputs": [
    {
     "name": "stdout",
     "output_type": "stream",
     "text": [
      "+----+-----+-----------------------+-------+------------+\n",
      "|pmid|title|concat(abstract, label)|journal|source_label|\n",
      "+----+-----+-----------------------+-------+------------+\n",
      "|pmid|title|          abstractlabel|journal|source_label|\n",
      "|pmid|title|          abstractlabel|journal|source_label|\n",
      "|pmid|title|          abstractlabel|journal|source_label|\n",
      "|pmid|title|          abstractlabel|journal|source_label|\n",
      "|pmid|title|          abstractlabel|journal|source_label|\n",
      "|pmid|title|          abstractlabel|journal|source_label|\n",
      "|pmid|title|          abstractlabel|journal|source_label|\n",
      "|pmid|title|          abstractlabel|journal|source_label|\n",
      "|pmid|title|          abstractlabel|journal|source_label|\n",
      "|pmid|title|          abstractlabel|journal|source_label|\n",
      "|pmid|title|          abstractlabel|journal|source_label|\n",
      "|pmid|title|          abstractlabel|journal|source_label|\n",
      "|pmid|title|          abstractlabel|journal|source_label|\n",
      "|pmid|title|          abstractlabel|journal|source_label|\n",
      "|pmid|title|          abstractlabel|journal|source_label|\n",
      "|pmid|title|          abstractlabel|journal|source_label|\n",
      "|pmid|title|          abstractlabel|journal|source_label|\n",
      "|pmid|title|          abstractlabel|journal|source_label|\n",
      "|pmid|title|          abstractlabel|journal|source_label|\n",
      "|pmid|title|          abstractlabel|journal|source_label|\n",
      "+----+-----+-----------------------+-------+------------+\n",
      "only showing top 20 rows\n",
      "\n"
     ]
    }
   ],
   "source": [
    "# df.createTempView(\"Publ\")\n",
    "df2=spark.sql(\"SELECT 'pmid', 'title', concat('abstract','label'), 'journal',  'source_label' FROM Publ\")\n",
    "df2.show()"
   ]
  },
  {
   "cell_type": "code",
   "execution_count": 20,
   "metadata": {},
   "outputs": [
    {
     "data": {
      "text/plain": [
       "13611"
      ]
     },
     "execution_count": 20,
     "metadata": {},
     "output_type": "execute_result"
    }
   ],
   "source": [
    "# Tokenize dataframe\n",
    "tokened = Tokenizer(inputCol=\"journal\", outputCol=\"words\")\n",
    "tokened_transformed = tokened.transform(dataframe_1)\n",
    "tokened_transformed.count()"
   ]
  },
  {
   "cell_type": "code",
   "execution_count": 5,
   "metadata": {},
   "outputs": [
    {
     "name": "stdout",
     "output_type": "stream",
     "text": [
      "+---------------------------------------------------------------------------------------------------------------------------------------+---------------------------------------------------------------------------------------------------------------------------------------------------------------+------------------------------------------------------------------------------------------------------------------------------------------+\n",
      "|Airline Tweets                                                                                                                         |words                                                                                                                                                          |filtered                                                                                                                                  |\n",
      "+---------------------------------------------------------------------------------------------------------------------------------------+---------------------------------------------------------------------------------------------------------------------------------------------------------------+------------------------------------------------------------------------------------------------------------------------------------------+\n",
      "|@VirginAmerica plus you've added commercials to the experience... tacky.                                                               |[@virginamerica, plus, you've, added, commercials, to, the, experience..., tacky.]                                                                             |[plus, you've, added, commercials, to, the, experience..., tacky.]                                                                        |\n",
      "|@VirginAmerica seriously would pay $30 a flight for seats that didn't have this playing. it's really the only bad thing about flying VA|[@virginamerica, seriously, would, pay, $30, a, flight, for, seats, that, didn't, have, this, playing., it's, really, the, only, bad, thing, about, flying, va]|[seriously, would, pay, a, flight, for, seats, that, didn't, have, this, playing., it's, really, the, only, bad, thing, about, flying, va]|\n",
      "|@VirginAmerica do you miss me? Don't worry we'll be together very soon.                                                                |[@virginamerica, do, you, miss, me?, don't, worry, we'll, be, together, very, soon.]                                                                           |[do, you, miss, me?, don't, worry, we'll, be, together, very, soon.]                                                                      |\n",
      "|@VirginAmerica Are the hours of operation for the Club at SFO that are posted online current?                                          |[@virginamerica, are, the, hours, of, operation, for, the, club, at, sfo, that, are, posted, online, current?]                                                 |[are, the, hours, of, operation, for, the, club, at, sfo, that, are, posted, online, current?]                                            |\n",
      "|@VirginAmerica awaiting my return phone call, just would prefer to use your online self-service option :(                              |[@virginamerica, awaiting, my, return, phone, call,, just, would, prefer, to, use, your, online, self-service, option, :(]                                     |[awaiting, my, return, phone, call,, just, would, prefer, to, use, your, online, self-service, option, :(]                                |\n",
      "+---------------------------------------------------------------------------------------------------------------------------------------+---------------------------------------------------------------------------------------------------------------------------------------------------------------+------------------------------------------------------------------------------------------------------------------------------------------+\n",
      "\n"
     ]
    }
   ],
   "source": [
    "# Remove stop words\n",
    "stop_list = [\"@VirginAmerica\", \"$30\", \"@virginamerica\"]\n",
    "remover = StopWordsRemover(inputCol=\"words\", outputCol=\"filtered\", stopWords=stop_list)\n",
    "removed_frame = remover.transform(tokened_transformed)\n",
    "removed_frame.show(truncate=False)"
   ]
  },
  {
   "cell_type": "code",
   "execution_count": 6,
   "metadata": {},
   "outputs": [
    {
     "name": "stdout",
     "output_type": "stream",
     "text": [
      "+--------------------+--------------------+--------------------+--------------------+\n",
      "|      Airline Tweets|               words|            filtered|        hashedValues|\n",
      "+--------------------+--------------------+--------------------+--------------------+\n",
      "|@VirginAmerica pl...|[@virginamerica, ...|[plus, you've, ad...|(16,[3,4,5,7,8,9,...|\n",
      "|@VirginAmerica se...|[@virginamerica, ...|[seriously, would...|(16,[0,1,2,3,4,9,...|\n",
      "|@VirginAmerica do...|[@virginamerica, ...|[do, you, miss, m...|(16,[0,1,8,10,11,...|\n",
      "|@VirginAmerica Ar...|[@virginamerica, ...|[are, the, hours,...|(16,[0,1,2,4,7,9,...|\n",
      "|@VirginAmerica aw...|[@virginamerica, ...|[awaiting, my, re...|(16,[0,3,4,6,7,8,...|\n",
      "+--------------------+--------------------+--------------------+--------------------+\n",
      "\n"
     ]
    }
   ],
   "source": [
    "# Run the hashing term frequency\n",
    "hashing = HashingTF(inputCol=\"filtered\", outputCol=\"hashedValues\", numFeatures=pow(2,4))\n",
    "\n",
    "# Transform into a DF\n",
    "hashed_df = hashing.transform(removed_frame)\n",
    "hashed_df.show()"
   ]
  },
  {
   "cell_type": "code",
   "execution_count": 7,
   "metadata": {
    "collapsed": true
   },
   "outputs": [],
   "source": [
    "# Fit the IDF on the data set \n",
    "idf = IDF(inputCol=\"hashedValues\", outputCol=\"features\")\n",
    "idfModel = idf.fit(hashed_df)\n",
    "rescaledData = idfModel.transform(hashed_df)"
   ]
  },
  {
   "cell_type": "code",
   "execution_count": 8,
   "metadata": {},
   "outputs": [
    {
     "name": "stdout",
     "output_type": "stream",
     "text": [
      "+---------------------------------------------------------------------------------------------------------------------------------------------------------------+---------------------------------------------------------------------------------------------------------------------------------------------------------------------------------------------------------------------+\n",
      "|words                                                                                                                                                          |features                                                                                                                                                                                                             |\n",
      "+---------------------------------------------------------------------------------------------------------------------------------------------------------------+---------------------------------------------------------------------------------------------------------------------------------------------------------------------------------------------------------------------+\n",
      "|[@virginamerica, plus, you've, added, commercials, to, the, experience..., tacky.]                                                                             |(16,[3,4,5,7,8,9,12,14],[0.4054651081081644,0.1823215567939546,1.0986122886681098,0.4054651081081644,0.4054651081081644,0.1823215567939546,0.0,0.0])                                                                 |\n",
      "|[@virginamerica, seriously, would, pay, $30, a, flight, for, seats, that, didn't, have, this, playing., it's, really, the, only, bad, thing, about, flying, va]|(16,[0,1,2,3,4,9,11,12,13,14],[0.3646431135879092,0.4054651081081644,0.6931471805599453,1.2163953243244932,0.1823215567939546,0.1823215567939546,0.8109302162163288,0.0,2.772588722239781,0.0])                      |\n",
      "|[@virginamerica, do, you, miss, me?, don't, worry, we'll, be, together, very, soon.]                                                                           |(16,[0,1,8,10,11,12,14,15],[0.1823215567939546,0.4054651081081644,0.8109302162163288,2.1972245773362196,0.4054651081081644,0.0,0.0,0.8109302162163288])                                                              |\n",
      "|[@virginamerica, are, the, hours, of, operation, for, the, club, at, sfo, that, are, posted, online, current?]                                                 |(16,[0,1,2,4,7,9,11,12,14,15],[0.5469646703818638,0.8109302162163288,1.3862943611198906,0.1823215567939546,0.4054651081081644,0.1823215567939546,0.4054651081081644,0.0,0.0,0.4054651081081644])                     |\n",
      "|[@virginamerica, awaiting, my, return, phone, call,, just, would, prefer, to, use, your, online, self-service, option, :(]                                     |(16,[0,3,4,6,7,8,9,12,13,14,15],[0.3646431135879092,0.8109302162163288,0.3646431135879092,1.0986122886681098,0.4054651081081644,0.4054651081081644,0.1823215567939546,0.0,1.3862943611198906,0.0,0.4054651081081644])|\n",
      "+---------------------------------------------------------------------------------------------------------------------------------------------------------------+---------------------------------------------------------------------------------------------------------------------------------------------------------------------------------------------------------------------+\n",
      "\n"
     ]
    }
   ],
   "source": [
    "# Display the dataframe\n",
    "rescaledData.select(\"words\", \"features\").show(truncate=False)"
   ]
  },
  {
   "cell_type": "code",
   "execution_count": 9,
   "metadata": {
    "collapsed": true
   },
   "outputs": [],
   "source": [
    "# Stop Spark\n",
    "spark.stop()"
   ]
  }
 ],
 "metadata": {
  "kernelspec": {
   "display_name": "Python [default]",
   "language": "python",
   "name": "python3"
  },
  "language_info": {
   "codemirror_mode": {
    "name": "ipython",
    "version": 3
   },
   "file_extension": ".py",
   "mimetype": "text/x-python",
   "name": "python",
   "nbconvert_exporter": "python",
   "pygments_lexer": "ipython3",
   "version": "3.6.3"
  }
 },
 "nbformat": 4,
 "nbformat_minor": 2
}
