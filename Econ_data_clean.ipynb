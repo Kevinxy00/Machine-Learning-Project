{
 "cells": [
  {
   "cell_type": "markdown",
   "metadata": {},
   "source": [
    "### Removes stop words from abstracts"
   ]
  },
  {
   "cell_type": "code",
   "execution_count": 25,
   "metadata": {
    "collapsed": true
   },
   "outputs": [],
   "source": [
    "from nltk.corpus import stopwords\n",
    "from nltk.tokenize import word_tokenize\n",
    "import pandas as pd"
   ]
  },
  {
   "cell_type": "code",
   "execution_count": 26,
   "metadata": {},
   "outputs": [
    {
     "data": {
      "text/html": [
       "<div>\n",
       "<style>\n",
       "    .dataframe thead tr:only-child th {\n",
       "        text-align: right;\n",
       "    }\n",
       "\n",
       "    .dataframe thead th {\n",
       "        text-align: left;\n",
       "    }\n",
       "\n",
       "    .dataframe tbody tr th {\n",
       "        vertical-align: top;\n",
       "    }\n",
       "</style>\n",
       "<table border=\"1\" class=\"dataframe\">\n",
       "  <thead>\n",
       "    <tr style=\"text-align: right;\">\n",
       "      <th></th>\n",
       "      <th>Unnamed: 0</th>\n",
       "      <th>abstract</th>\n",
       "      <th>top_journal</th>\n",
       "    </tr>\n",
       "  </thead>\n",
       "  <tbody>\n",
       "    <tr>\n",
       "      <th>2795</th>\n",
       "      <td>3162</td>\n",
       "      <td>We use the August 2007 crisis episode to gauge...</td>\n",
       "      <td>0</td>\n",
       "    </tr>\n",
       "    <tr>\n",
       "      <th>2796</th>\n",
       "      <td>3163</td>\n",
       "      <td>We examine three pairs of cross-section regres...</td>\n",
       "      <td>0</td>\n",
       "    </tr>\n",
       "    <tr>\n",
       "      <th>2797</th>\n",
       "      <td>3164</td>\n",
       "      <td>A set of recent papers attempts to explain the...</td>\n",
       "      <td>0</td>\n",
       "    </tr>\n",
       "    <tr>\n",
       "      <th>2798</th>\n",
       "      <td>3165</td>\n",
       "      <td>The long-run risks model of asset prices expla...</td>\n",
       "      <td>0</td>\n",
       "    </tr>\n",
       "    <tr>\n",
       "      <th>2799</th>\n",
       "      <td>3166</td>\n",
       "      <td>We provide an empirical evaluation of the Long...</td>\n",
       "      <td>0</td>\n",
       "    </tr>\n",
       "  </tbody>\n",
       "</table>\n",
       "</div>"
      ],
      "text/plain": [
       "      Unnamed: 0                                           abstract  \\\n",
       "2795        3162  We use the August 2007 crisis episode to gauge...   \n",
       "2796        3163  We examine three pairs of cross-section regres...   \n",
       "2797        3164  A set of recent papers attempts to explain the...   \n",
       "2798        3165  The long-run risks model of asset prices expla...   \n",
       "2799        3166  We provide an empirical evaluation of the Long...   \n",
       "\n",
       "      top_journal  \n",
       "2795            0  \n",
       "2796            0  \n",
       "2797            0  \n",
       "2798            0  \n",
       "2799            0  "
      ]
     },
     "execution_count": 26,
     "metadata": {},
     "output_type": "execute_result"
    }
   ],
   "source": [
    "# import raw data csv from top journals, other high ranking journals, & not high rank journals\n",
    "topJourns_df = pd.read_csv(\"raw_data_econ/topJournals_abstract.csv\", encoding = \"'iso-8859-1'\")\n",
    "hiJourns_df = pd.read_csv(\"raw_data_econ/hiRankJournals_abstract.csv\", encoding = \"'iso-8859-1'\")\n",
    "notHiJourns_df = pd.read_csv(\"raw_data_econ/notHiJournals_abstract.csv\", encoding = \"'iso-8859-1'\")\n",
    "notHiJourns2_df = pd.read_csv(\"raw_data_econ/notHiJournals_2_abstract.csv\", encoding = \"'iso-8859-1'\")\n",
    "notHiJourns2_df.tail()\n"
   ]
  },
  {
   "cell_type": "code",
   "execution_count": 27,
   "metadata": {},
   "outputs": [
    {
     "data": {
      "text/plain": [
       "Index(['Unnamed: 0', 'abstract', 'top_journal'], dtype='object')"
      ]
     },
     "execution_count": 27,
     "metadata": {},
     "output_type": "execute_result"
    }
   ],
   "source": [
    "topJourns_df.columns"
   ]
  },
  {
   "cell_type": "code",
   "execution_count": 28,
   "metadata": {},
   "outputs": [
    {
     "data": {
      "text/plain": [
       "'# ah-hoc cleaning for top journs\\n# get rid entries where abstracts are not available\\nfor index, row in topJourns_df.iterrows():\\n    if row[\"abstract\"] == \\'No abstract is available for this item.\\':\\n        topJourns_df.drop(index, inplace=True)\\n    if row[\"abstract\"][0:19] == \\' type=\"main\" xml:id\\':\\n        topJourns_df.loc[index, \"abstract\"] = row[\"abstract\"][42:]\\n    if row[\"abstract\"][0:27] == \\' type=\"main\" xml:lang=\"en\">\\':\\n        topJourns_df.loc[index, \"abstract\"] = row[\"abstract\"][28:]\\n    if row[\"abstract\"][0:12] == \\' type=\"main\"\\':\\n        topJourns_df.loc[index, \"abstract\"] = row[\"abstract\"][14:]\\ntopJourns_df[\\'abstract\\'].iloc[1500]'"
      ]
     },
     "execution_count": 28,
     "metadata": {},
     "output_type": "execute_result"
    }
   ],
   "source": [
    "'''# ah-hoc cleaning for top journs\n",
    "# get rid entries where abstracts are not available\n",
    "for index, row in topJourns_df.iterrows():\n",
    "    if row[\"abstract\"] == 'No abstract is available for this item.':\n",
    "        topJourns_df.drop(index, inplace=True)\n",
    "    if row[\"abstract\"][0:19] == ' type=\"main\" xml:id':\n",
    "        topJourns_df.loc[index, \"abstract\"] = row[\"abstract\"][42:]\n",
    "    if row[\"abstract\"][0:27] == ' type=\"main\" xml:lang=\"en\">':\n",
    "        topJourns_df.loc[index, \"abstract\"] = row[\"abstract\"][28:]\n",
    "    if row[\"abstract\"][0:12] == ' type=\"main\"':\n",
    "        topJourns_df.loc[index, \"abstract\"] = row[\"abstract\"][14:]\n",
    "topJourns_df['abstract'].iloc[1500]'''"
   ]
  },
  {
   "cell_type": "code",
   "execution_count": 29,
   "metadata": {},
   "outputs": [
    {
     "data": {
      "text/plain": [
       "\"# save to csv file \\ntopJourns_df.to_csv(r'raw_data_econ/topJournals_abstract.csv', index=False)\""
      ]
     },
     "execution_count": 29,
     "metadata": {},
     "output_type": "execute_result"
    }
   ],
   "source": [
    "'''# save to csv file \n",
    "topJourns_df.to_csv(r'raw_data_econ/topJournals_abstract.csv', index=False)'''"
   ]
  },
  {
   "cell_type": "code",
   "execution_count": 30,
   "metadata": {},
   "outputs": [
    {
     "data": {
      "text/html": [
       "<div>\n",
       "<style>\n",
       "    .dataframe thead tr:only-child th {\n",
       "        text-align: right;\n",
       "    }\n",
       "\n",
       "    .dataframe thead th {\n",
       "        text-align: left;\n",
       "    }\n",
       "\n",
       "    .dataframe tbody tr th {\n",
       "        vertical-align: top;\n",
       "    }\n",
       "</style>\n",
       "<table border=\"1\" class=\"dataframe\">\n",
       "  <thead>\n",
       "    <tr style=\"text-align: right;\">\n",
       "      <th></th>\n",
       "      <th>Unnamed: 0</th>\n",
       "      <th>abstract</th>\n",
       "      <th>top_journal</th>\n",
       "    </tr>\n",
       "  </thead>\n",
       "  <tbody>\n",
       "    <tr>\n",
       "      <th>2169</th>\n",
       "      <td>2193</td>\n",
       "      <td>We study managerâ ? ? employee interactions ex...</td>\n",
       "      <td>1</td>\n",
       "    </tr>\n",
       "    <tr>\n",
       "      <th>2170</th>\n",
       "      <td>2194</td>\n",
       "      <td>In article explore proposition , economies imp...</td>\n",
       "      <td>1</td>\n",
       "    </tr>\n",
       "    <tr>\n",
       "      <th>2171</th>\n",
       "      <td>2195</td>\n",
       "      <td>Business cycles less volatile synchronized wor...</td>\n",
       "      <td>1</td>\n",
       "    </tr>\n",
       "    <tr>\n",
       "      <th>2172</th>\n",
       "      <td>2196</td>\n",
       "      <td>From end second century CE , Judaism enforced ...</td>\n",
       "      <td>1</td>\n",
       "    </tr>\n",
       "    <tr>\n",
       "      <th>2173</th>\n",
       "      <td>2197</td>\n",
       "      <td>Conventional economic analyses successful expl...</td>\n",
       "      <td>1</td>\n",
       "    </tr>\n",
       "  </tbody>\n",
       "</table>\n",
       "</div>"
      ],
      "text/plain": [
       "      Unnamed: 0                                           abstract  \\\n",
       "2169        2193  We study managerâ ? ? employee interactions ex...   \n",
       "2170        2194  In article explore proposition , economies imp...   \n",
       "2171        2195  Business cycles less volatile synchronized wor...   \n",
       "2172        2196  From end second century CE , Judaism enforced ...   \n",
       "2173        2197  Conventional economic analyses successful expl...   \n",
       "\n",
       "      top_journal  \n",
       "2169            1  \n",
       "2170            1  \n",
       "2171            1  \n",
       "2172            1  \n",
       "2173            1  "
      ]
     },
     "execution_count": 30,
     "metadata": {},
     "output_type": "execute_result"
    }
   ],
   "source": [
    "# Cleaning stop words \n",
    "stop_words = set(stopwords.words('english'))\n",
    "def clean_stop_words(df):\n",
    "    for index, row in df.iterrows():\n",
    "        word_tokens = word_tokenize(row[\"abstract\"])\n",
    "        filtered_sentence = []\n",
    "        for w in word_tokens:\n",
    "            if w not in stop_words:\n",
    "                filtered_sentence.append(w)\n",
    "        string = ' '.join(filtered_sentence)\n",
    "        df.set_value(index, \"abstract\", string)\n",
    "    return df\n",
    "\n",
    "# Clean the top journals\n",
    "top_cleaned = clean_stop_words(topJourns_df)\n",
    "top_cleaned.tail()"
   ]
  },
  {
   "cell_type": "code",
   "execution_count": 31,
   "metadata": {},
   "outputs": [
    {
     "data": {
      "text/html": [
       "<div>\n",
       "<style>\n",
       "    .dataframe thead tr:only-child th {\n",
       "        text-align: right;\n",
       "    }\n",
       "\n",
       "    .dataframe thead th {\n",
       "        text-align: left;\n",
       "    }\n",
       "\n",
       "    .dataframe tbody tr th {\n",
       "        vertical-align: top;\n",
       "    }\n",
       "</style>\n",
       "<table border=\"1\" class=\"dataframe\">\n",
       "  <thead>\n",
       "    <tr style=\"text-align: right;\">\n",
       "      <th></th>\n",
       "      <th>Unnamed: 0</th>\n",
       "      <th>abstract</th>\n",
       "      <th>top_journal</th>\n",
       "    </tr>\n",
       "  </thead>\n",
       "  <tbody>\n",
       "    <tr>\n",
       "      <th>2795</th>\n",
       "      <td>3162</td>\n",
       "      <td>We use August 2007 crisis episode gauge causal...</td>\n",
       "      <td>0</td>\n",
       "    </tr>\n",
       "    <tr>\n",
       "      <th>2796</th>\n",
       "      <td>3163</td>\n",
       "      <td>We examine three pairs cross-section regressio...</td>\n",
       "      <td>0</td>\n",
       "    </tr>\n",
       "    <tr>\n",
       "      <th>2797</th>\n",
       "      <td>3164</td>\n",
       "      <td>A set recent papers attempts explain size book...</td>\n",
       "      <td>0</td>\n",
       "    </tr>\n",
       "    <tr>\n",
       "      <th>2798</th>\n",
       "      <td>3165</td>\n",
       "      <td>The long-run risks model asset prices explains...</td>\n",
       "      <td>0</td>\n",
       "    </tr>\n",
       "    <tr>\n",
       "      <th>2799</th>\n",
       "      <td>3166</td>\n",
       "      <td>We provide empirical evaluation Long-Run Risks...</td>\n",
       "      <td>0</td>\n",
       "    </tr>\n",
       "  </tbody>\n",
       "</table>\n",
       "</div>"
      ],
      "text/plain": [
       "      Unnamed: 0                                           abstract  \\\n",
       "2795        3162  We use August 2007 crisis episode gauge causal...   \n",
       "2796        3163  We examine three pairs cross-section regressio...   \n",
       "2797        3164  A set recent papers attempts explain size book...   \n",
       "2798        3165  The long-run risks model asset prices explains...   \n",
       "2799        3166  We provide empirical evaluation Long-Run Risks...   \n",
       "\n",
       "      top_journal  \n",
       "2795            0  \n",
       "2796            0  \n",
       "2797            0  \n",
       "2798            0  \n",
       "2799            0  "
      ]
     },
     "execution_count": 31,
     "metadata": {},
     "output_type": "execute_result"
    }
   ],
   "source": [
    "# cleaning other high ranking and not high rank journals\n",
    "hi_cleaned = clean_stop_words(hiJourns_df)\n",
    "\n",
    "notHi_cleaned = clean_stop_words(notHiJourns_df)\n",
    "notHi2_cleaned = clean_stop_words(notHiJourns2_df)\n",
    "\n",
    "notHi2_cleaned.tail()"
   ]
  },
  {
   "cell_type": "code",
   "execution_count": 32,
   "metadata": {
    "collapsed": true
   },
   "outputs": [],
   "source": [
    "# save all cleaned to csv\n",
    "top_cleaned.to_csv('raw_data_econ/topRanks_cleaned.csv', index=False)\n",
    "hi_cleaned.to_csv('raw_data_econ/hiRanks_cleaned.csv', index=False)\n",
    "notHi_cleaned.to_csv('raw_data_econ/notHiRanks_cleaned.csv', index=False)\n",
    "notHi2_cleaned.to_csv('raw_data_econ/notHiRanks2_cleaned.csv', index=False)"
   ]
  }
 ],
 "metadata": {
  "kernelspec": {
   "display_name": "Python 3",
   "language": "python",
   "name": "python3"
  },
  "language_info": {
   "codemirror_mode": {
    "name": "ipython",
    "version": 3
   },
   "file_extension": ".py",
   "mimetype": "text/x-python",
   "name": "python",
   "nbconvert_exporter": "python",
   "pygments_lexer": "ipython3",
   "version": "3.6.3"
  }
 },
 "nbformat": 4,
 "nbformat_minor": 2
}
