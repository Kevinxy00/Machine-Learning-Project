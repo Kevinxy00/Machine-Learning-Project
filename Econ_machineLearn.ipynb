{
 "cells": [
  {
   "cell_type": "markdown",
   "metadata": {},
   "source": [
    "### Machine Learning for Econonomics Journal Abstracts"
   ]
  },
  {
   "cell_type": "code",
   "execution_count": 86,
   "metadata": {
    "collapsed": true
   },
   "outputs": [],
   "source": [
    "\n",
    "import pandas as pd\n",
    "from sklearn.feature_extraction.text import TfidfVectorizer\n",
    "from sklearn.feature_extraction.text import HashingVectorizer\n",
    "from sklearn.feature_extraction.text import CountVectorizer\n",
    "from sklearn.linear_model import LogisticRegression\n",
    "from sklearn.model_selection import train_test_split"
   ]
  },
  {
   "cell_type": "code",
   "execution_count": 87,
   "metadata": {},
   "outputs": [
    {
     "data": {
      "text/plain": [
       "(8229,)"
      ]
     },
     "execution_count": 87,
     "metadata": {},
     "output_type": "execute_result"
    }
   ],
   "source": [
    "topJourns_df = pd.read_csv(\"raw_data_econ/topRanks_cleaned.csv\", encoding = \"'iso-8859-1'\")\n",
    "hiJourns_df = pd.read_csv(\"raw_data_econ/hiRanks_cleaned.csv\", encoding = \"'iso-8859-1'\")\n",
    "notHiJourns_df = pd.read_csv(\"raw_data_econ/notHiRanks_cleaned.csv\", encoding = \"'iso-8859-1'\")\n",
    "notHiJourns2_df = pd.read_csv(\"raw_data_econ/notHiRanks2_cleaned.csv\", encoding = \"'iso-8859-1'\")\n",
    "\n",
    "frames = [topJourns_df, hiJourns_df, notHiJourns_df, notHiJourns2_df]\n",
    "combined_df = pd.concat(frames)\n",
    "combined_df[\"abstract\"].shape"
   ]
  },
  {
   "cell_type": "code",
   "execution_count": 88,
   "metadata": {
    "collapsed": true
   },
   "outputs": [],
   "source": [
    "# split data into test & train\n",
    "X = combined_df[\"abstract\"]\n",
    "y = combined_df[\"top_journal\"]\n",
    "X_train, X_test, y_train, y_test = train_test_split(X, y, random_state=1, stratify=y)\n",
    "\n",
    "# transform X and y to lists for processing\n",
    "X_train = X_train.tolist()\n",
    "X_test = X_test.tolist()\n",
    "y_train = y_train.tolist()\n",
    "y_test = y_test.tolist()"
   ]
  },
  {
   "cell_type": "code",
   "execution_count": 89,
   "metadata": {},
   "outputs": [
    {
     "data": {
      "text/plain": [
       "LogisticRegression(C=1.0, class_weight=None, dual=False, fit_intercept=True,\n",
       "          intercept_scaling=1, max_iter=100, multi_class='ovr', n_jobs=1,\n",
       "          penalty='l2', random_state=None, solver='liblinear', tol=0.0001,\n",
       "          verbose=0, warm_start=False)"
      ]
     },
     "execution_count": 89,
     "metadata": {},
     "output_type": "execute_result"
    }
   ],
   "source": [
    "# Fit to logistic regression function\n",
    "classifier = LogisticRegression()\n",
    "\n",
    "#word to vector\n",
    "'''tfidf_vectorizer = TfidfVectorizer(analyzer='word', ngram_range=(1, 3))'''\n",
    "hash_vectorizer = HashingVectorizer(analyzer='word', ngram_range=(1, 2))\n",
    "X_train=hash_vectorizer.fit_transform(X_train)\n",
    "X_test=hash_vectorizer.fit_transform(X_test)\n",
    "\n",
    "classifier.fit(X_train, y_train)"
   ]
  },
  {
   "cell_type": "code",
   "execution_count": 90,
   "metadata": {},
   "outputs": [
    {
     "name": "stdout",
     "output_type": "stream",
     "text": [
      "Training Data Score: 0.8799222168206126\n",
      "Testing Data Score: 0.7089407191448007\n"
     ]
    }
   ],
   "source": [
    "# training and testing data score\n",
    "print(f\"Training Data Score: {classifier.score(X_train, y_train)}\")\n",
    "print(f\"Testing Data Score: {classifier.score(X_test, y_test)}\")"
   ]
  },
  {
   "cell_type": "code",
   "execution_count": 91,
   "metadata": {},
   "outputs": [
    {
     "data": {
      "text/html": [
       "<div>\n",
       "<style>\n",
       "    .dataframe thead tr:only-child th {\n",
       "        text-align: right;\n",
       "    }\n",
       "\n",
       "    .dataframe thead th {\n",
       "        text-align: left;\n",
       "    }\n",
       "\n",
       "    .dataframe tbody tr th {\n",
       "        vertical-align: top;\n",
       "    }\n",
       "</style>\n",
       "<table border=\"1\" class=\"dataframe\">\n",
       "  <thead>\n",
       "    <tr style=\"text-align: right;\">\n",
       "      <th></th>\n",
       "      <th>Actual</th>\n",
       "      <th>Prediction</th>\n",
       "    </tr>\n",
       "  </thead>\n",
       "  <tbody>\n",
       "    <tr>\n",
       "      <th>0</th>\n",
       "      <td>1</td>\n",
       "      <td>1</td>\n",
       "    </tr>\n",
       "    <tr>\n",
       "      <th>1</th>\n",
       "      <td>1</td>\n",
       "      <td>1</td>\n",
       "    </tr>\n",
       "    <tr>\n",
       "      <th>2</th>\n",
       "      <td>0</td>\n",
       "      <td>0</td>\n",
       "    </tr>\n",
       "    <tr>\n",
       "      <th>3</th>\n",
       "      <td>0</td>\n",
       "      <td>1</td>\n",
       "    </tr>\n",
       "    <tr>\n",
       "      <th>4</th>\n",
       "      <td>0</td>\n",
       "      <td>0</td>\n",
       "    </tr>\n",
       "    <tr>\n",
       "      <th>5</th>\n",
       "      <td>0</td>\n",
       "      <td>1</td>\n",
       "    </tr>\n",
       "    <tr>\n",
       "      <th>6</th>\n",
       "      <td>1</td>\n",
       "      <td>1</td>\n",
       "    </tr>\n",
       "    <tr>\n",
       "      <th>7</th>\n",
       "      <td>0</td>\n",
       "      <td>1</td>\n",
       "    </tr>\n",
       "    <tr>\n",
       "      <th>8</th>\n",
       "      <td>1</td>\n",
       "      <td>1</td>\n",
       "    </tr>\n",
       "    <tr>\n",
       "      <th>9</th>\n",
       "      <td>0</td>\n",
       "      <td>0</td>\n",
       "    </tr>\n",
       "    <tr>\n",
       "      <th>10</th>\n",
       "      <td>0</td>\n",
       "      <td>1</td>\n",
       "    </tr>\n",
       "    <tr>\n",
       "      <th>11</th>\n",
       "      <td>1</td>\n",
       "      <td>1</td>\n",
       "    </tr>\n",
       "    <tr>\n",
       "      <th>12</th>\n",
       "      <td>0</td>\n",
       "      <td>1</td>\n",
       "    </tr>\n",
       "    <tr>\n",
       "      <th>13</th>\n",
       "      <td>1</td>\n",
       "      <td>0</td>\n",
       "    </tr>\n",
       "    <tr>\n",
       "      <th>14</th>\n",
       "      <td>1</td>\n",
       "      <td>1</td>\n",
       "    </tr>\n",
       "    <tr>\n",
       "      <th>15</th>\n",
       "      <td>1</td>\n",
       "      <td>1</td>\n",
       "    </tr>\n",
       "    <tr>\n",
       "      <th>16</th>\n",
       "      <td>0</td>\n",
       "      <td>0</td>\n",
       "    </tr>\n",
       "    <tr>\n",
       "      <th>17</th>\n",
       "      <td>0</td>\n",
       "      <td>0</td>\n",
       "    </tr>\n",
       "    <tr>\n",
       "      <th>18</th>\n",
       "      <td>0</td>\n",
       "      <td>0</td>\n",
       "    </tr>\n",
       "    <tr>\n",
       "      <th>19</th>\n",
       "      <td>0</td>\n",
       "      <td>0</td>\n",
       "    </tr>\n",
       "  </tbody>\n",
       "</table>\n",
       "</div>"
      ],
      "text/plain": [
       "    Actual  Prediction\n",
       "0        1           1\n",
       "1        1           1\n",
       "2        0           0\n",
       "3        0           1\n",
       "4        0           0\n",
       "5        0           1\n",
       "6        1           1\n",
       "7        0           1\n",
       "8        1           1\n",
       "9        0           0\n",
       "10       0           1\n",
       "11       1           1\n",
       "12       0           1\n",
       "13       1           0\n",
       "14       1           1\n",
       "15       1           1\n",
       "16       0           0\n",
       "17       0           0\n",
       "18       0           0\n",
       "19       0           0"
      ]
     },
     "execution_count": 91,
     "metadata": {},
     "output_type": "execute_result"
    }
   ],
   "source": [
    "# Making predictions\n",
    "predictions = classifier.predict(X_test)\n",
    "pd.DataFrame({\"Prediction\": predictions, \"Actual\": y_test}).head(20)"
   ]
  },
  {
   "cell_type": "code",
   "execution_count": 92,
   "metadata": {},
   "outputs": [
    {
     "name": "stdout",
     "output_type": "stream",
     "text": [
      "                 precision    recall  f1-score   support\n",
      "\n",
      "Not top Journal       0.72      0.70      0.71      1034\n",
      "    Top Journal       0.70      0.72      0.71      1024\n",
      "\n",
      "    avg / total       0.71      0.71      0.71      2058\n",
      "\n"
     ]
    }
   ],
   "source": [
    "from sklearn.metrics import classification_report\n",
    "target_names = [\"Not top Journal\", \"Top Journal\"]\n",
    "report = classification_report(y_test, predictions, target_names=target_names)\n",
    "print(report)"
   ]
  },
  {
   "cell_type": "code",
   "execution_count": 93,
   "metadata": {
    "collapsed": true
   },
   "outputs": [],
   "source": [
    "# Saving the model for use elsewhere\n",
    "import pickle\n",
    "pickle.dump(classifier,open('logReg_model', 'wb'))\n"
   ]
  },
  {
   "cell_type": "code",
   "execution_count": 94,
   "metadata": {
    "collapsed": true
   },
   "outputs": [],
   "source": [
    "# Test: loading in the pickled model\n",
    "clf2 = pickle.load(open('logReg_model', 'rb'))"
   ]
  },
  {
   "cell_type": "code",
   "execution_count": 95,
   "metadata": {},
   "outputs": [
    {
     "data": {
      "text/plain": [
       "0"
      ]
     },
     "execution_count": 95,
     "metadata": {},
     "output_type": "execute_result"
    }
   ],
   "source": [
    "# Test: predict if top journal based on input string \n",
    "string = \"This paper provides simple , yet robust framework evaluate time profile benefits paid unemployment spell . We derive sufficient-statistics formulae capturing marginal insurance value incentive costs unemployment benefits paid different times spell . Our approach allows us revisit separate arguments inclining declining profiles put forward theoretical literature identify welfare-improving changes benefit profile account relevant arguments jointly . For empirical implementation , use administrative data unemployment , linked data consumption , income , wealth Sweden . First , exploit duration-dependent kinks replacement rate find , anything , moral hazard cost benefits larger paid earlier spell . Second , find drop consumption affecting insurance value benefits large start spell , increases throughout spell . In trading insurance incentives , analysis suggests flat benefit profile Sweden generous overall . However , insurance incentives side , find evidence support introduction declining tilt profile .\"\n",
    "test = \" \"\n",
    "def model_predict(s):\n",
    "    string = []\n",
    "    string.append(s)\n",
    "    test = hash_vectorizer.fit_transform(string)\n",
    "    result = clf2.predict(test)\n",
    "    return result[0]\n",
    "model_predict(test)"
   ]
  },
  {
   "cell_type": "code",
   "execution_count": null,
   "metadata": {
    "collapsed": true
   },
   "outputs": [],
   "source": [
    "'''# Test area for neural network\n",
    "# first, create a normal neural network with 2 inputs, 6 hidden nodes, and 2 outputs\n",
    "from keras.models import Sequential\n",
    "from keras.layers import Dense, Activation\n",
    "\n",
    "model = Sequential()\n",
    "model.add(Dense(units=512, activation='relu', input_dim=1048576))\n",
    "model.add(Dense(units=512, activation='relu'))\n",
    "model.add(Dense(units=2, activation='softmax'))'''"
   ]
  },
  {
   "cell_type": "code",
   "execution_count": null,
   "metadata": {},
   "outputs": [
    {
     "name": "stdout",
     "output_type": "stream",
     "text": [
      "Train on 5553 samples, validate on 618 samples\n",
      "Epoch 1/5\n"
     ]
    }
   ],
   "source": [
    "'''from keras.utils import to_categorical\n",
    "y_binary = to_categorical(y_train)\n",
    "\n",
    "model.compile(optimizer='adam', \n",
    "              loss='categorical_crossentropy', \n",
    "              metrics=['accuracy'])\n",
    "model.fit(X_train,\n",
    "    y_binary,\n",
    "    epochs=5,\n",
    "    shuffle=True,\n",
    "    verbose=2, validation_split=0.1\n",
    ")'''"
   ]
  }
 ],
 "metadata": {
  "kernelspec": {
   "display_name": "Python (PythonData)",
   "language": "python",
   "name": "pythondata"
  },
  "language_info": {
   "codemirror_mode": {
    "name": "ipython",
    "version": 3
   },
   "file_extension": ".py",
   "mimetype": "text/x-python",
   "name": "python",
   "nbconvert_exporter": "python",
   "pygments_lexer": "ipython3",
   "version": "3.6.3"
  }
 },
 "nbformat": 4,
 "nbformat_minor": 2
}
