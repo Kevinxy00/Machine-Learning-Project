{
 "cells": [
  {
   "cell_type": "code",
   "execution_count": 25,
   "metadata": {
    "collapsed": true
   },
   "outputs": [],
   "source": [
    "from flask import Flask, render_template, request\n",
    "from nltk.corpus import stopwords\n",
    "from nltk.tokenize import word_tokenize\n",
    "import pandas as pd\n",
    "import pickle\n",
    "from sklearn.feature_extraction.text import HashingVectorizer"
   ]
  },
  {
   "cell_type": "code",
   "execution_count": 26,
   "metadata": {
    "collapsed": true
   },
   "outputs": [],
   "source": [
    "# loading in the pickled model\n",
    "clf2 = pickle.load(open('logReg_model', 'rb'))"
   ]
  },
  {
   "cell_type": "code",
   "execution_count": 27,
   "metadata": {},
   "outputs": [
    {
     "data": {
      "text/html": [
       "<div>\n",
       "<style>\n",
       "    .dataframe thead tr:only-child th {\n",
       "        text-align: right;\n",
       "    }\n",
       "\n",
       "    .dataframe thead th {\n",
       "        text-align: left;\n",
       "    }\n",
       "\n",
       "    .dataframe tbody tr th {\n",
       "        vertical-align: top;\n",
       "    }\n",
       "</style>\n",
       "<table border=\"1\" class=\"dataframe\">\n",
       "  <thead>\n",
       "    <tr style=\"text-align: right;\">\n",
       "      <th></th>\n",
       "      <th>Unnamed: 0</th>\n",
       "      <th>abstract</th>\n",
       "    </tr>\n",
       "  </thead>\n",
       "  <tbody>\n",
       "    <tr>\n",
       "      <th>0</th>\n",
       "      <td>1788</td>\n",
       "      <td>Conventional explanations post-1991 growth Ind...</td>\n",
       "    </tr>\n",
       "    <tr>\n",
       "      <th>1</th>\n",
       "      <td>2167</td>\n",
       "      <td>We review nonparametric `` revealed preference...</td>\n",
       "    </tr>\n",
       "    <tr>\n",
       "      <th>2</th>\n",
       "      <td>976</td>\n",
       "      <td>We study role domestic global factors payoffs ...</td>\n",
       "    </tr>\n",
       "    <tr>\n",
       "      <th>3</th>\n",
       "      <td>2132</td>\n",
       "      <td>This paper part conference `` Beyond Pillar 3 ...</td>\n",
       "    </tr>\n",
       "    <tr>\n",
       "      <th>4</th>\n",
       "      <td>1389</td>\n",
       "      <td>We study effects securitization interbank lend...</td>\n",
       "    </tr>\n",
       "  </tbody>\n",
       "</table>\n",
       "</div>"
      ],
      "text/plain": [
       "   Unnamed: 0                                           abstract\n",
       "0        1788  Conventional explanations post-1991 growth Ind...\n",
       "1        2167  We review nonparametric `` revealed preference...\n",
       "2         976  We study role domestic global factors payoffs ...\n",
       "3        2132  This paper part conference `` Beyond Pillar 3 ...\n",
       "4        1389  We study effects securitization interbank lend..."
      ]
     },
     "execution_count": 27,
     "metadata": {},
     "output_type": "execute_result"
    }
   ],
   "source": [
    "# importing x_train data\n",
    "X_train = pd.read_csv(\"raw_data_econ/X_train_econ.csv\", encoding=\"'iso-8859-1'\")\n",
    "X_train.head()"
   ]
  },
  {
   "cell_type": "code",
   "execution_count": 28,
   "metadata": {},
   "outputs": [
    {
     "data": {
      "text/plain": [
       "'This test ! Testing , testing , 1 , 2 , 3 !'"
      ]
     },
     "execution_count": 28,
     "metadata": {},
     "output_type": "execute_result"
    }
   ],
   "source": [
    "# function to clean text \n",
    "stop_words = set(stopwords.words('english'))\n",
    "def clean_text(text):\n",
    "    word_tokens = word_tokenize(text)\n",
    "    filtered_sentence = []\n",
    "    for w in word_tokens:\n",
    "        if w not in stop_words:\n",
    "            filtered_sentence.append(w)\n",
    "    string = ' '.join(filtered_sentence)\n",
    "    return string\n",
    "\n",
    "# testing clean_text()\n",
    "test = \"This is only a test! Testing, testing, and a 1, and a 2, and a 3!\"\n",
    "cleaned = clean_text(test)\n",
    "cleaned"
   ]
  },
  {
   "cell_type": "code",
   "execution_count": 29,
   "metadata": {},
   "outputs": [
    {
     "data": {
      "text/plain": [
       "'Predicted to NOT be in the top 20 Economics journals with a probability of 67.06%.'"
      ]
     },
     "execution_count": 29,
     "metadata": {},
     "output_type": "execute_result"
    }
   ],
   "source": [
    "# Function to predict if an input string is likely to be in top journal\n",
    "# note: copy/pasted from Econ_machineLearn.ipynb\n",
    "hash_vectorizer = HashingVectorizer(analyzer='word', ngram_range=(1, 2))\n",
    "hash_vectorizer.fit(X_train)\n",
    "def model_predict(s):\n",
    "    string = []\n",
    "    string.append(s)\n",
    "    vectorized = hash_vectorizer.transform(string)\n",
    "    probab = round(max(clf2.predict_proba(vectorized)[0])* 100, 2) \n",
    "    prediction = clf2.predict(vectorized)[0]\n",
    "    if prediction == 1:\n",
    "        result = \"Predicted to be in the top 20 Economics journals\"\n",
    "    else:\n",
    "        result = \"Predicted to NOT be in the top 20 Economics journals\"\n",
    "    return result + \" with a probability of \" + str(probab) + \"%.\"\n",
    "\n",
    "#testing\n",
    "prediction = model_predict(cleaned)\n",
    "prediction"
   ]
  },
  {
   "cell_type": "code",
   "execution_count": 30,
   "metadata": {
    "collapsed": true
   },
   "outputs": [],
   "source": [
    "# initialize flask \n",
    "app = Flask(__name__)    "
   ]
  },
  {
   "cell_type": "code",
   "execution_count": 31,
   "metadata": {
    "collapsed": true
   },
   "outputs": [],
   "source": [
    "# render the homepage\n",
    "@app.route(\"/\")\n",
    "def render_index():\n",
    "     return render_template('index_econ.html')"
   ]
  },
  {
   "cell_type": "code",
   "execution_count": 32,
   "metadata": {
    "collapsed": true
   },
   "outputs": [],
   "source": [
    "# When user submits text, returns prediction\n",
    "@app.route(\"/\", methods=[\"POST\"])\n",
    "def post_form():\n",
    "    text = request.form['text']\n",
    "    text_clean = clean_text(text)\n",
    "    predict = model_predict(text_clean)\n",
    "    return predict\n",
    "    "
   ]
  },
  {
   "cell_type": "code",
   "execution_count": null,
   "metadata": {},
   "outputs": [],
   "source": [
    "# run app\n",
    "if __name__=='__main__':\n",
    "    app.run()"
   ]
  }
 ],
 "metadata": {
  "kernelspec": {
   "display_name": "Python (PythonData)",
   "language": "python",
   "name": "pythondata"
  },
  "language_info": {
   "codemirror_mode": {
    "name": "ipython",
    "version": 3
   },
   "file_extension": ".py",
   "mimetype": "text/x-python",
   "name": "python",
   "nbconvert_exporter": "python",
   "pygments_lexer": "ipython3",
   "version": "3.6.3"
  }
 },
 "nbformat": 4,
 "nbformat_minor": 2
}
